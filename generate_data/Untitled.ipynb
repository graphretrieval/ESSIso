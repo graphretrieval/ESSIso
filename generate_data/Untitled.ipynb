{
 "cells": [
  {
   "cell_type": "code",
   "execution_count": 2,
   "metadata": {},
   "outputs": [],
   "source": [
    "import torch\n",
    "import random \n",
    "import numpy as np \n",
    "from tqdm import tqdm \n",
    "from scipy.spatial.distance import cdist, cosine\n",
    "from scipy.optimize import linear_sum_assignment\n",
    "from utils.corrupt_graph import remove_edge, remove_node, add_edge, add_node\n",
    "from utils.query_machine import get_candidates\n",
    "from python_emb import *\n",
    "import torch.nn.functional as F\n",
    "from scipy.spatial.distance import cosine\n",
    "from scipy.stats import pearsonr, spearmanr\n",
    "from collections import defaultdict"
   ]
  },
  {
   "cell_type": "code",
   "execution_count": 6,
   "metadata": {},
   "outputs": [
    {
     "name": "stdout",
     "output_type": "stream",
     "text": [
      "Set max degree to 5\n",
      "-----------------------------------------------\n",
      "Loading data:\n",
      "Loading graph data from ./dataspace/graph/yeast/yeast-G.json\n",
      "Removed 0 nodes that lacked proper annotations due to networkx versioning issues\n",
      "File loaded successfully\n",
      "Loading feature from ./dataspace/graph/yeast/yeast-G.json\n",
      "File loaded successfully\n",
      "Loading classmap data from ./dataspace/graph/yeast/yeast-class_map.json\n",
      "File loaded successfully\n",
      "Loaded data.. now preprocessing..\n",
      "Use original edges\n",
      "Generate train edges\n",
      "Number of training edges: 12519\n",
      "Preprocessing finished, graph info:\n",
      "Name: yeast\n",
      "Type: Graph\n",
      "Number of nodes: 3101\n",
      "Number of edges: 12519\n",
      "Average degree:   8.0742\n"
     ]
    },
    {
     "name": "stderr",
     "output_type": "stream",
     "text": [
      "1000it [00:23, 41.80it/s]\n"
     ]
    },
    {
     "name": "stdout",
     "output_type": "stream",
     "text": [
      "yeast 4 SpearmanrResult(correlation=1.0, pvalue=0.0) (0.9936700555275177, 6.102099533530004e-06)\n",
      "Set max degree to 5\n",
      "-----------------------------------------------\n",
      "Loading data:\n",
      "Loading graph data from ./dataspace/graph/yeast/yeast-G.json\n",
      "Removed 0 nodes that lacked proper annotations due to networkx versioning issues\n",
      "File loaded successfully\n",
      "Loading feature from ./dataspace/graph/yeast/yeast-G.json\n",
      "File loaded successfully\n",
      "Loading classmap data from ./dataspace/graph/yeast/yeast-class_map.json\n",
      "File loaded successfully\n",
      "Loaded data.. now preprocessing..\n",
      "Use original edges\n",
      "Generate train edges\n",
      "Number of training edges: 12519\n",
      "Preprocessing finished, graph info:\n",
      "Name: yeast\n",
      "Type: Graph\n",
      "Number of nodes: 3101\n",
      "Number of edges: 12519\n",
      "Average degree:   8.0742\n"
     ]
    },
    {
     "name": "stderr",
     "output_type": "stream",
     "text": [
      "1000it [00:24, 40.39it/s]\n"
     ]
    },
    {
     "name": "stdout",
     "output_type": "stream",
     "text": [
      "yeast 8 SpearmanrResult(correlation=1.0, pvalue=0.0) (0.9920663818006499, 1.0722196458243565e-05)\n",
      "Set max degree to 5\n",
      "-----------------------------------------------\n",
      "Loading data:\n",
      "Loading graph data from ./dataspace/graph/yeast/yeast-G.json\n",
      "Removed 0 nodes that lacked proper annotations due to networkx versioning issues\n",
      "File loaded successfully\n",
      "Loading feature from ./dataspace/graph/yeast/yeast-G.json\n",
      "File loaded successfully\n",
      "Loading classmap data from ./dataspace/graph/yeast/yeast-class_map.json\n",
      "File loaded successfully\n",
      "Loaded data.. now preprocessing..\n",
      "Use original edges\n",
      "Generate train edges\n",
      "Number of training edges: 12519\n",
      "Preprocessing finished, graph info:\n",
      "Name: yeast\n",
      "Type: Graph\n",
      "Number of nodes: 3101\n",
      "Number of edges: 12519\n",
      "Average degree:   8.0742\n"
     ]
    },
    {
     "name": "stderr",
     "output_type": "stream",
     "text": [
      "1000it [00:24, 41.18it/s]\n"
     ]
    },
    {
     "name": "stdout",
     "output_type": "stream",
     "text": [
      "yeast 16 SpearmanrResult(correlation=1.0, pvalue=0.0) (0.9922500953035837, 1.011321594770516e-05)\n",
      "Set max degree to 5\n",
      "-----------------------------------------------\n",
      "Loading data:\n",
      "Loading graph data from ./dataspace/graph/yeast/yeast-G.json\n",
      "Removed 0 nodes that lacked proper annotations due to networkx versioning issues\n",
      "File loaded successfully\n",
      "Loading feature from ./dataspace/graph/yeast/yeast-G.json\n",
      "File loaded successfully\n",
      "Loading classmap data from ./dataspace/graph/yeast/yeast-class_map.json\n",
      "File loaded successfully\n",
      "Loaded data.. now preprocessing..\n",
      "Use original edges\n",
      "Generate train edges\n",
      "Number of training edges: 12519\n",
      "Preprocessing finished, graph info:\n",
      "Name: yeast\n",
      "Type: Graph\n",
      "Number of nodes: 3101\n",
      "Number of edges: 12519\n",
      "Average degree:   8.0742\n"
     ]
    },
    {
     "name": "stderr",
     "output_type": "stream",
     "text": [
      "1000it [00:24, 40.46it/s]\n"
     ]
    },
    {
     "name": "stdout",
     "output_type": "stream",
     "text": [
      "yeast 32 SpearmanrResult(correlation=1.0, pvalue=0.0) (0.9958926832201729, 2.072015830647115e-06)\n",
      "Set max degree to 5\n",
      "-----------------------------------------------\n",
      "Loading data:\n",
      "Loading graph data from ./dataspace/graph/yeast/yeast-G.json\n",
      "Removed 0 nodes that lacked proper annotations due to networkx versioning issues\n",
      "File loaded successfully\n",
      "Loading feature from ./dataspace/graph/yeast/yeast-G.json\n",
      "File loaded successfully\n",
      "Loading classmap data from ./dataspace/graph/yeast/yeast-class_map.json\n",
      "File loaded successfully\n",
      "Loaded data.. now preprocessing..\n",
      "Use original edges\n",
      "Generate train edges\n",
      "Number of training edges: 12519\n",
      "Preprocessing finished, graph info:\n",
      "Name: yeast\n",
      "Type: Graph\n",
      "Number of nodes: 3101\n",
      "Number of edges: 12519\n",
      "Average degree:   8.0742\n"
     ]
    },
    {
     "name": "stderr",
     "output_type": "stream",
     "text": [
      "1000it [00:24, 40.12it/s]\n"
     ]
    },
    {
     "name": "stdout",
     "output_type": "stream",
     "text": [
      "yeast 64 SpearmanrResult(correlation=1.0, pvalue=0.0) (0.990342519155756, 1.7513094062956154e-05)\n",
      "Set max degree to 5\n",
      "-----------------------------------------------\n",
      "Loading data:\n",
      "Loading graph data from ./dataspace/graph/yeast/yeast-G.json\n",
      "Removed 0 nodes that lacked proper annotations due to networkx versioning issues\n",
      "File loaded successfully\n",
      "Loading feature from ./dataspace/graph/yeast/yeast-G.json\n",
      "File loaded successfully\n",
      "Loading classmap data from ./dataspace/graph/yeast/yeast-class_map.json\n",
      "File loaded successfully\n",
      "Loaded data.. now preprocessing..\n",
      "Use original edges\n",
      "Generate train edges\n",
      "Number of training edges: 12519\n",
      "Preprocessing finished, graph info:\n",
      "Name: yeast\n",
      "Type: Graph\n",
      "Number of nodes: 3101\n",
      "Number of edges: 12519\n",
      "Average degree:   8.0742\n"
     ]
    },
    {
     "name": "stderr",
     "output_type": "stream",
     "text": [
      "1000it [00:25, 39.98it/s]\n"
     ]
    },
    {
     "name": "stdout",
     "output_type": "stream",
     "text": [
      "yeast 128 SpearmanrResult(correlation=1.0, pvalue=0.0) (0.9938755529832741, 5.619460897373712e-06)\n",
      "Set max degree to 5\n",
      "-----------------------------------------------\n",
      "Loading data:\n",
      "Loading graph data from ./dataspace/graph/yeast/yeast-G.json\n",
      "Removed 0 nodes that lacked proper annotations due to networkx versioning issues\n",
      "File loaded successfully\n",
      "Loading feature from ./dataspace/graph/yeast/yeast-G.json\n",
      "File loaded successfully\n",
      "Loading classmap data from ./dataspace/graph/yeast/yeast-class_map.json\n",
      "File loaded successfully\n",
      "Loaded data.. now preprocessing..\n",
      "Use original edges\n",
      "Generate train edges\n",
      "Number of training edges: 12519\n",
      "Preprocessing finished, graph info:\n",
      "Name: yeast\n",
      "Type: Graph\n",
      "Number of nodes: 3101\n",
      "Number of edges: 12519\n",
      "Average degree:   8.0742\n"
     ]
    },
    {
     "name": "stderr",
     "output_type": "stream",
     "text": [
      "1000it [00:24, 40.18it/s]"
     ]
    },
    {
     "name": "stdout",
     "output_type": "stream",
     "text": [
      "yeast 512 SpearmanrResult(correlation=1.0, pvalue=0.0) (0.9942324435657697, 4.837158105324026e-06)\n"
     ]
    },
    {
     "name": "stderr",
     "output_type": "stream",
     "text": [
      "\n"
     ]
    }
   ],
   "source": [
    "for dataset in ['yeast']:\n",
    "    for dim in [4, 8, 16, 32, 64, 128, 512]:\n",
    "        ori_graph_data = load_data('./dataspace/graph/{}/{}'.format(dataset, dataset), supervised=False, max_degree=5, multiclass=False, use_random_walks=False)\n",
    "\n",
    "        ori_emb_model = SupervisedGraphSage(ori_graph_data.raw_feats.shape[1], dim, ori_graph_data.num_class)\n",
    "        ori_emb_model = ori_emb_model.cuda()\n",
    "        ori_emb_model.load_state_dict(torch.load('model_dim/{}_sup_50_dim{}.pt'.format(dataset, dim)))\n",
    "        ori_emb_model.set_params(ori_graph_data.full_adj, ori_graph_data.deg, ori_graph_data.feats)\n",
    "        ori_emb_model.eval()\n",
    "\n",
    "        ori_graph_emb = F.normalize(ori_emb_model.aggregator(list(range(ori_graph_data.raw_feats.shape[0]))), dim = 1)\n",
    "        ori_graph_emb = ori_graph_emb.detach().cpu().numpy()\n",
    "\n",
    "\n",
    "        for i, node in enumerate(ori_graph_data.G.nodes):\n",
    "            ori_graph_data.G.nodes[node]['label'] = ori_graph_data.multi2single_label[tuple(ori_graph_data.G.nodes[node]['label'])]\n",
    "\n",
    "        query_machine = GraphQuery(ori_emb_model, \n",
    "                ori_graph_emb,\n",
    "                ori_graph_data.G,\n",
    "                ori_graph_data.id_map,\n",
    "                ori_graph_data.feats,\n",
    "                ori_graph_data.raw_feats,\n",
    "                ori_graph_data.full_adj,\n",
    "                ori_graph_data.deg)\n",
    "\n",
    "        def get_embedding_subgraph(subgraph):\n",
    "            sub_id_map, sub_raw_feats, all_sub_adj, sub_degree = query_machine.create_subgraph_map(subgraph)\n",
    "            embedding_subgraph = query_machine.embedding_subgraph(sub_raw_feats, all_sub_adj, sub_degree)\n",
    "            embedding_subgraph = embedding_subgraph.detach().cpu().numpy()\n",
    "\n",
    "            return embedding_subgraph, sub_id_map\n",
    "\n",
    "\n",
    "        mcs2emb = defaultdict(list)\n",
    "        GRAPH_SIZE = 20\n",
    "        N_REMOVE = 3\n",
    "        N_CORE = 1000\n",
    "\n",
    "        if N_CORE<= len(query_machine.ori_graph):\n",
    "            core_nodes = random.sample([node for node in query_machine.ori_graph], N_CORE)\n",
    "        else:\n",
    "            core_nodes = random.choices([node for node in query_machine.ori_graph], k=N_CORE)\n",
    "        for i, core_node in tqdm(enumerate(core_nodes)):\n",
    "            biggraph = query_machine.create_subgraph_from_core(core_node, GRAPH_SIZE)\n",
    "            if len(biggraph) != GRAPH_SIZE:\n",
    "                continue\n",
    "            sub_id_map, sub_raw_feats, all_sub_adj, sub_degree = query_machine.create_subgraph_map(biggraph)\n",
    "\n",
    "            embedding_biggraph = query_machine.embedding_subgraph(sub_raw_feats, all_sub_adj, sub_degree)\n",
    "            embedding_biggraph = embedding_biggraph.detach().cpu().numpy()\n",
    "            for dist in range(1,8):\n",
    "                connected = False\n",
    "                n_tries  = 0\n",
    "                while(not connected and n_tries<=10):\n",
    "                    subgraph = remove_node(biggraph, dist)\n",
    "                    n_tries += 1\n",
    "                    if len(subgraph)==0: continue\n",
    "                    connected = nx.is_connected(subgraph)\n",
    "                    if (n_tries>10): break\n",
    "                if n_tries <=10 and nx.is_connected(subgraph):\n",
    "                    sub_id_map, sub_raw_feats, all_sub_adj, sub_degree = query_machine.create_subgraph_map(subgraph)\n",
    "                    embedding_subgraph = query_machine.embedding_subgraph(sub_raw_feats, all_sub_adj, sub_degree)\n",
    "                    embedding_subgraph = embedding_subgraph.detach().cpu().numpy()\n",
    "                    emb_sim = ((embedding_biggraph.mean(0)- embedding_subgraph.mean(0))**2).sum()\n",
    "                    if not np.isnan(emb_sim):\n",
    "                        mcs2emb[dist].append(emb_sim)\n",
    "        X = []\n",
    "        Y = []\n",
    "        for k,v in mcs2emb.items():\n",
    "            X.append(k)\n",
    "            Y.append(sum(v)/len(v))\n",
    "        print(dataset, dim, spearmanr(X, Y), pearsonr(X,Y))\n"
   ]
  },
  {
   "cell_type": "code",
   "execution_count": 7,
   "metadata": {},
   "outputs": [
    {
     "name": "stdout",
     "output_type": "stream",
     "text": [
      "Set max degree to 5\n",
      "-----------------------------------------------\n",
      "Loading data:\n",
      "Loading graph data from ./dataspace/graph/human/human-G.json\n",
      "Removed 0 nodes that lacked proper annotations due to networkx versioning issues\n",
      "File loaded successfully\n",
      "Loading feature from ./dataspace/graph/human/human-G.json\n",
      "File loaded successfully\n",
      "Loading classmap data from ./dataspace/graph/human/human-class_map.json\n",
      "File loaded successfully\n",
      "Loaded data.. now preprocessing..\n",
      "Use original edges\n",
      "Generate train edges\n",
      "Number of training edges: 86282\n",
      "Preprocessing finished, graph info:\n",
      "Name: human\n",
      "Type: Graph\n",
      "Number of nodes: 4674\n",
      "Number of edges: 86282\n",
      "Average degree:  36.9200\n"
     ]
    },
    {
     "name": "stderr",
     "output_type": "stream",
     "text": [
      "1000it [00:24, 41.24it/s]\n"
     ]
    },
    {
     "name": "stdout",
     "output_type": "stream",
     "text": [
      "human 4 SpearmanrResult(correlation=1.0, pvalue=0.0) (0.9919182506599817, 1.122882728796473e-05)\n",
      "Set max degree to 5\n",
      "-----------------------------------------------\n",
      "Loading data:\n",
      "Loading graph data from ./dataspace/graph/human/human-G.json\n",
      "Removed 0 nodes that lacked proper annotations due to networkx versioning issues\n",
      "File loaded successfully\n",
      "Loading feature from ./dataspace/graph/human/human-G.json\n",
      "File loaded successfully\n",
      "Loading classmap data from ./dataspace/graph/human/human-class_map.json\n",
      "File loaded successfully\n",
      "Loaded data.. now preprocessing..\n",
      "Use original edges\n",
      "Generate train edges\n",
      "Number of training edges: 86282\n",
      "Preprocessing finished, graph info:\n",
      "Name: human\n",
      "Type: Graph\n",
      "Number of nodes: 4674\n",
      "Number of edges: 86282\n",
      "Average degree:  36.9200\n"
     ]
    },
    {
     "name": "stderr",
     "output_type": "stream",
     "text": [
      "1000it [00:23, 42.35it/s]\n"
     ]
    },
    {
     "name": "stdout",
     "output_type": "stream",
     "text": [
      "human 8 SpearmanrResult(correlation=1.0, pvalue=0.0) (0.9927816469569724, 8.4696928369132e-06)\n",
      "Set max degree to 5\n",
      "-----------------------------------------------\n",
      "Loading data:\n",
      "Loading graph data from ./dataspace/graph/human/human-G.json\n",
      "Removed 0 nodes that lacked proper annotations due to networkx versioning issues\n",
      "File loaded successfully\n",
      "Loading feature from ./dataspace/graph/human/human-G.json\n",
      "File loaded successfully\n",
      "Loading classmap data from ./dataspace/graph/human/human-class_map.json\n",
      "File loaded successfully\n",
      "Loaded data.. now preprocessing..\n",
      "Use original edges\n",
      "Generate train edges\n",
      "Number of training edges: 86282\n",
      "Preprocessing finished, graph info:\n",
      "Name: human\n",
      "Type: Graph\n",
      "Number of nodes: 4674\n",
      "Number of edges: 86282\n",
      "Average degree:  36.9200\n"
     ]
    },
    {
     "name": "stderr",
     "output_type": "stream",
     "text": [
      "1000it [00:23, 42.35it/s]\n"
     ]
    },
    {
     "name": "stdout",
     "output_type": "stream",
     "text": [
      "human 16 SpearmanrResult(correlation=1.0, pvalue=0.0) (0.9891363601991506, 2.3488756594433984e-05)\n",
      "Set max degree to 5\n",
      "-----------------------------------------------\n",
      "Loading data:\n",
      "Loading graph data from ./dataspace/graph/human/human-G.json\n",
      "Removed 0 nodes that lacked proper annotations due to networkx versioning issues\n",
      "File loaded successfully\n",
      "Loading feature from ./dataspace/graph/human/human-G.json\n",
      "File loaded successfully\n",
      "Loading classmap data from ./dataspace/graph/human/human-class_map.json\n",
      "File loaded successfully\n",
      "Loaded data.. now preprocessing..\n",
      "Use original edges\n",
      "Generate train edges\n",
      "Number of training edges: 86282\n",
      "Preprocessing finished, graph info:\n",
      "Name: human\n",
      "Type: Graph\n",
      "Number of nodes: 4674\n",
      "Number of edges: 86282\n",
      "Average degree:  36.9200\n"
     ]
    },
    {
     "name": "stderr",
     "output_type": "stream",
     "text": [
      "1000it [00:24, 41.19it/s]\n"
     ]
    },
    {
     "name": "stdout",
     "output_type": "stream",
     "text": [
      "human 32 SpearmanrResult(correlation=1.0, pvalue=0.0) (0.9916790675772396, 1.207661285930497e-05)\n",
      "Set max degree to 5\n",
      "-----------------------------------------------\n",
      "Loading data:\n",
      "Loading graph data from ./dataspace/graph/human/human-G.json\n",
      "Removed 0 nodes that lacked proper annotations due to networkx versioning issues\n",
      "File loaded successfully\n",
      "Loading feature from ./dataspace/graph/human/human-G.json\n",
      "File loaded successfully\n",
      "Loading classmap data from ./dataspace/graph/human/human-class_map.json\n",
      "File loaded successfully\n",
      "Loaded data.. now preprocessing..\n",
      "Use original edges\n",
      "Generate train edges\n",
      "Number of training edges: 86282\n",
      "Preprocessing finished, graph info:\n",
      "Name: human\n",
      "Type: Graph\n",
      "Number of nodes: 4674\n",
      "Number of edges: 86282\n",
      "Average degree:  36.9200\n"
     ]
    },
    {
     "name": "stderr",
     "output_type": "stream",
     "text": [
      "1000it [00:24, 41.19it/s]\n"
     ]
    },
    {
     "name": "stdout",
     "output_type": "stream",
     "text": [
      "human 64 SpearmanrResult(correlation=1.0, pvalue=0.0) (0.9947840912177905, 3.7632598441395394e-06)\n",
      "Set max degree to 5\n",
      "-----------------------------------------------\n",
      "Loading data:\n",
      "Loading graph data from ./dataspace/graph/human/human-G.json\n",
      "Removed 0 nodes that lacked proper annotations due to networkx versioning issues\n",
      "File loaded successfully\n",
      "Loading feature from ./dataspace/graph/human/human-G.json\n",
      "File loaded successfully\n",
      "Loading classmap data from ./dataspace/graph/human/human-class_map.json\n",
      "File loaded successfully\n",
      "Loaded data.. now preprocessing..\n",
      "Use original edges\n",
      "Generate train edges\n",
      "Number of training edges: 86282\n",
      "Preprocessing finished, graph info:\n",
      "Name: human\n",
      "Type: Graph\n",
      "Number of nodes: 4674\n",
      "Number of edges: 86282\n",
      "Average degree:  36.9200\n"
     ]
    },
    {
     "name": "stderr",
     "output_type": "stream",
     "text": [
      "1000it [00:25, 38.84it/s]\n"
     ]
    },
    {
     "name": "stdout",
     "output_type": "stream",
     "text": [
      "human 128 SpearmanrResult(correlation=1.0, pvalue=0.0) (0.9884974602191212, 2.708674249423654e-05)\n",
      "Set max degree to 5\n",
      "-----------------------------------------------\n",
      "Loading data:\n",
      "Loading graph data from ./dataspace/graph/human/human-G.json\n",
      "Removed 0 nodes that lacked proper annotations due to networkx versioning issues\n",
      "File loaded successfully\n",
      "Loading feature from ./dataspace/graph/human/human-G.json\n",
      "File loaded successfully\n",
      "Loading classmap data from ./dataspace/graph/human/human-class_map.json\n",
      "File loaded successfully\n",
      "Loaded data.. now preprocessing..\n",
      "Use original edges\n",
      "Generate train edges\n",
      "Number of training edges: 86282\n",
      "Preprocessing finished, graph info:\n",
      "Name: human\n",
      "Type: Graph\n",
      "Number of nodes: 4674\n",
      "Number of edges: 86282\n",
      "Average degree:  36.9200\n"
     ]
    },
    {
     "name": "stderr",
     "output_type": "stream",
     "text": [
      "1000it [00:26, 37.04it/s]\n"
     ]
    },
    {
     "name": "stdout",
     "output_type": "stream",
     "text": [
      "human 512 SpearmanrResult(correlation=1.0, pvalue=0.0) (0.9883779130999722, 2.779423924709121e-05)\n",
      "Set max degree to 5\n",
      "-----------------------------------------------\n",
      "Loading data:\n",
      "Loading graph data from ./dataspace/graph/cora/cora-G.json\n",
      "Removed 0 nodes that lacked proper annotations due to networkx versioning issues\n",
      "File loaded successfully\n",
      "Loading feature from ./dataspace/graph/cora/cora-G.json\n",
      "File loaded successfully\n",
      "Loading classmap data from ./dataspace/graph/cora/cora-class_map.json\n",
      "File loaded successfully\n",
      "Loaded data.. now preprocessing..\n",
      "Use original edges\n",
      "Generate train edges\n",
      "Number of training edges: 5278\n",
      "Preprocessing finished, graph info:\n",
      "Name: cora\n",
      "Type: Graph\n",
      "Number of nodes: 2708\n",
      "Number of edges: 5278\n",
      "Average degree:   3.8981\n"
     ]
    },
    {
     "name": "stderr",
     "output_type": "stream",
     "text": [
      "1000it [00:23, 42.87it/s]\n"
     ]
    },
    {
     "name": "stdout",
     "output_type": "stream",
     "text": [
      "cora 4 SpearmanrResult(correlation=1.0, pvalue=0.0) (0.9877188862661359, 3.18922326326664e-05)\n",
      "Set max degree to 5\n",
      "-----------------------------------------------\n",
      "Loading data:\n",
      "Loading graph data from ./dataspace/graph/cora/cora-G.json\n",
      "Removed 0 nodes that lacked proper annotations due to networkx versioning issues\n",
      "File loaded successfully\n",
      "Loading feature from ./dataspace/graph/cora/cora-G.json\n",
      "File loaded successfully\n",
      "Loading classmap data from ./dataspace/graph/cora/cora-class_map.json\n",
      "File loaded successfully\n",
      "Loaded data.. now preprocessing..\n"
     ]
    },
    {
     "name": "stderr",
     "output_type": "stream",
     "text": [
      "\r",
      "0it [00:00, ?it/s]"
     ]
    },
    {
     "name": "stdout",
     "output_type": "stream",
     "text": [
      "Use original edges\n",
      "Generate train edges\n",
      "Number of training edges: 5278\n",
      "Preprocessing finished, graph info:\n",
      "Name: cora\n",
      "Type: Graph\n",
      "Number of nodes: 2708\n",
      "Number of edges: 5278\n",
      "Average degree:   3.8981\n"
     ]
    },
    {
     "name": "stderr",
     "output_type": "stream",
     "text": [
      "1000it [00:23, 42.72it/s]\n"
     ]
    },
    {
     "name": "stdout",
     "output_type": "stream",
     "text": [
      "cora 8 SpearmanrResult(correlation=1.0, pvalue=0.0) (0.9874741377054002, 3.350058859854219e-05)\n",
      "Set max degree to 5\n",
      "-----------------------------------------------\n",
      "Loading data:\n",
      "Loading graph data from ./dataspace/graph/cora/cora-G.json\n",
      "Removed 0 nodes that lacked proper annotations due to networkx versioning issues\n",
      "File loaded successfully\n",
      "Loading feature from ./dataspace/graph/cora/cora-G.json\n",
      "File loaded successfully\n",
      "Loading classmap data from ./dataspace/graph/cora/cora-class_map.json\n",
      "File loaded successfully\n",
      "Loaded data.. now preprocessing..\n",
      "Use original edges\n",
      "Generate train edges\n",
      "Number of training edges: 5278\n",
      "Preprocessing finished, graph info:\n",
      "Name: cora\n",
      "Type: Graph\n",
      "Number of nodes: 2708\n",
      "Number of edges: 5278\n",
      "Average degree:   3.8981\n"
     ]
    },
    {
     "name": "stderr",
     "output_type": "stream",
     "text": [
      "1000it [00:23, 42.04it/s]\n"
     ]
    },
    {
     "name": "stdout",
     "output_type": "stream",
     "text": [
      "cora 16 SpearmanrResult(correlation=1.0, pvalue=0.0) (0.9978302275166278, 4.2071144997538314e-07)\n",
      "Set max degree to 5\n",
      "-----------------------------------------------\n",
      "Loading data:\n",
      "Loading graph data from ./dataspace/graph/cora/cora-G.json\n",
      "Removed 0 nodes that lacked proper annotations due to networkx versioning issues\n",
      "File loaded successfully\n",
      "Loading feature from ./dataspace/graph/cora/cora-G.json\n",
      "File loaded successfully\n",
      "Loading classmap data from ./dataspace/graph/cora/cora-class_map.json\n",
      "File loaded successfully\n",
      "Loaded data.. now preprocessing..\n",
      "Use original edges\n",
      "Generate train edges\n",
      "Number of training edges: 5278"
     ]
    },
    {
     "name": "stderr",
     "output_type": "stream",
     "text": [
      "\r",
      "0it [00:00, ?it/s]"
     ]
    },
    {
     "name": "stdout",
     "output_type": "stream",
     "text": [
      "\n",
      "Preprocessing finished, graph info:\n",
      "Name: cora\n",
      "Type: Graph\n",
      "Number of nodes: 2708\n",
      "Number of edges: 5278\n",
      "Average degree:   3.8981\n"
     ]
    },
    {
     "name": "stderr",
     "output_type": "stream",
     "text": [
      "1000it [00:22, 44.57it/s]\n"
     ]
    },
    {
     "name": "stdout",
     "output_type": "stream",
     "text": [
      "cora 32 SpearmanrResult(correlation=1.0, pvalue=0.0) (0.9903519520024926, 1.7470449616474298e-05)\n",
      "Set max degree to 5\n",
      "-----------------------------------------------\n",
      "Loading data:\n",
      "Loading graph data from ./dataspace/graph/cora/cora-G.json\n",
      "Removed 0 nodes that lacked proper annotations due to networkx versioning issues\n",
      "File loaded successfully\n",
      "Loading feature from ./dataspace/graph/cora/cora-G.json\n",
      "File loaded successfully\n",
      "Loading classmap data from ./dataspace/graph/cora/cora-class_map.json\n",
      "File loaded successfully\n",
      "Loaded data.. now preprocessing..\n",
      "Use original edges\n",
      "Generate train edges\n",
      "Number of training edges: 5278\n",
      "Preprocessing finished, graph info:\n",
      "Name: cora\n",
      "Type: Graph\n",
      "Number of nodes: 2708\n",
      "Number of edges: 5278\n",
      "Average degree:   3.8981\n"
     ]
    },
    {
     "name": "stderr",
     "output_type": "stream",
     "text": [
      "1000it [00:22, 45.35it/s]\n"
     ]
    },
    {
     "name": "stdout",
     "output_type": "stream",
     "text": [
      "cora 64 SpearmanrResult(correlation=1.0, pvalue=0.0) (0.9990270127759517, 5.6688540236384215e-08)\n",
      "Set max degree to 5\n",
      "-----------------------------------------------\n",
      "Loading data:\n",
      "Loading graph data from ./dataspace/graph/cora/cora-G.json\n",
      "Removed 0 nodes that lacked proper annotations due to networkx versioning issues\n",
      "File loaded successfully\n",
      "Loading feature from ./dataspace/graph/cora/cora-G.json\n",
      "File loaded successfully\n",
      "Loading classmap data from ./dataspace/graph/cora/cora-class_map.json\n",
      "File loaded successfully\n",
      "Loaded data.. now preprocessing..\n",
      "Use original edges\n",
      "Generate train edges\n",
      "Number of training edges: 5278\n",
      "Preprocessing finished, graph info:\n",
      "Name: cora\n",
      "Type: Graph\n",
      "Number of nodes: 2708\n",
      "Number of edges: 5278\n",
      "Average degree:   3.8981\n"
     ]
    },
    {
     "name": "stderr",
     "output_type": "stream",
     "text": [
      "1000it [00:22, 44.32it/s]\n"
     ]
    },
    {
     "name": "stdout",
     "output_type": "stream",
     "text": [
      "cora 128 SpearmanrResult(correlation=1.0, pvalue=0.0) (0.9923239133685182, 9.87450342091146e-06)\n",
      "Set max degree to 5\n",
      "-----------------------------------------------\n",
      "Loading data:\n",
      "Loading graph data from ./dataspace/graph/cora/cora-G.json\n",
      "Removed 0 nodes that lacked proper annotations due to networkx versioning issues\n",
      "File loaded successfully\n",
      "Loading feature from ./dataspace/graph/cora/cora-G.json\n",
      "File loaded successfully\n",
      "Loading classmap data from ./dataspace/graph/cora/cora-class_map.json\n",
      "File loaded successfully\n",
      "Loaded data.. now preprocessing..\n",
      "Use original edges\n",
      "Generate train edges\n",
      "Number of training edges: 5278\n",
      "Preprocessing finished, graph info:\n",
      "Name: cora\n",
      "Type: Graph\n",
      "Number of nodes: 2708\n",
      "Number of edges: 5278\n",
      "Average degree:   3.8981\n"
     ]
    },
    {
     "name": "stderr",
     "output_type": "stream",
     "text": [
      "1000it [00:22, 45.38it/s]\n"
     ]
    },
    {
     "name": "stdout",
     "output_type": "stream",
     "text": [
      "cora 512 SpearmanrResult(correlation=1.0, pvalue=0.0) (0.9931958812541235, 7.308002365524221e-06)\n",
      "Set max degree to 5\n",
      "-----------------------------------------------\n",
      "Loading data:\n",
      "Loading graph data from ./dataspace/graph/citeseer/citeseer-G.json\n",
      "Removed 0 nodes that lacked proper annotations due to networkx versioning issues\n",
      "File loaded successfully\n",
      "Loading feature from ./dataspace/graph/citeseer/citeseer-G.json\n",
      "File loaded successfully\n",
      "Loading classmap data from ./dataspace/graph/citeseer/citeseer-class_map.json\n",
      "File loaded successfully\n",
      "Loaded data.. now preprocessing..\n",
      "Use original edges\n",
      "Generate train edges\n",
      "Number of training edges: 4600\n",
      "Preprocessing finished, graph info:\n",
      "Name: citeseer\n",
      "Type: Graph\n",
      "Number of nodes: 3327\n",
      "Number of edges: 4600\n",
      "Average degree:   2.7653\n"
     ]
    },
    {
     "name": "stderr",
     "output_type": "stream",
     "text": [
      "1000it [00:14, 70.33it/s]\n"
     ]
    },
    {
     "name": "stdout",
     "output_type": "stream",
     "text": [
      "citeseer 4 SpearmanrResult(correlation=1.0, pvalue=0.0) (0.9923156637981837, 9.901011516979564e-06)\n",
      "Set max degree to 5\n",
      "-----------------------------------------------\n",
      "Loading data:\n",
      "Loading graph data from ./dataspace/graph/citeseer/citeseer-G.json\n",
      "Removed 0 nodes that lacked proper annotations due to networkx versioning issues\n",
      "File loaded successfully\n",
      "Loading feature from ./dataspace/graph/citeseer/citeseer-G.json\n",
      "File loaded successfully\n",
      "Loading classmap data from ./dataspace/graph/citeseer/citeseer-class_map.json\n",
      "File loaded successfully\n",
      "Loaded data.. now preprocessing..\n",
      "Use original edges\n",
      "Generate train edges\n",
      "Number of training edges: 4600\n",
      "Preprocessing finished, graph info:\n",
      "Name: citeseer\n",
      "Type: Graph\n",
      "Number of nodes: 3327\n",
      "Number of edges: 4600\n",
      "Average degree:   2.7653\n"
     ]
    },
    {
     "name": "stderr",
     "output_type": "stream",
     "text": [
      "1000it [00:13, 72.79it/s]\n"
     ]
    },
    {
     "name": "stdout",
     "output_type": "stream",
     "text": [
      "citeseer 8 SpearmanrResult(correlation=1.0, pvalue=0.0) (0.995342414792493, 2.8364254705571066e-06)\n",
      "Set max degree to 5\n",
      "-----------------------------------------------\n",
      "Loading data:\n",
      "Loading graph data from ./dataspace/graph/citeseer/citeseer-G.json\n",
      "Removed 0 nodes that lacked proper annotations due to networkx versioning issues\n",
      "File loaded successfully\n",
      "Loading feature from ./dataspace/graph/citeseer/citeseer-G.json\n",
      "File loaded successfully\n",
      "Loading classmap data from ./dataspace/graph/citeseer/citeseer-class_map.json\n",
      "File loaded successfully\n",
      "Loaded data.. now preprocessing..\n",
      "Use original edges\n",
      "Generate train edges\n",
      "Number of training edges: 4600\n",
      "Preprocessing finished, graph info:\n",
      "Name: citeseer\n",
      "Type: Graph\n",
      "Number of nodes: 3327\n",
      "Number of edges: 4600\n",
      "Average degree:   2.7653\n"
     ]
    },
    {
     "name": "stderr",
     "output_type": "stream",
     "text": [
      "1000it [00:13, 71.79it/s]\n"
     ]
    },
    {
     "name": "stdout",
     "output_type": "stream",
     "text": [
      "citeseer 16 SpearmanrResult(correlation=1.0, pvalue=0.0) (0.9959631192218692, 1.984398041237421e-06)\n",
      "Set max degree to 5\n",
      "-----------------------------------------------\n",
      "Loading data:\n",
      "Loading graph data from ./dataspace/graph/citeseer/citeseer-G.json\n",
      "Removed 0 nodes that lacked proper annotations due to networkx versioning issues\n",
      "File loaded successfully\n",
      "Loading feature from ./dataspace/graph/citeseer/citeseer-G.json\n",
      "File loaded successfully\n",
      "Loading classmap data from ./dataspace/graph/citeseer/citeseer-class_map.json\n",
      "File loaded successfully\n",
      "Loaded data.. now preprocessing..\n",
      "Use original edges\n",
      "Generate train edges\n",
      "Number of training edges: 4600\n",
      "Preprocessing finished, graph info:\n",
      "Name: citeseer\n",
      "Type: Graph\n",
      "Number of nodes: 3327\n",
      "Number of edges: 4600\n",
      "Average degree:   2.7653\n"
     ]
    },
    {
     "name": "stderr",
     "output_type": "stream",
     "text": [
      "1000it [00:14, 67.53it/s]\n"
     ]
    },
    {
     "name": "stdout",
     "output_type": "stream",
     "text": [
      "citeseer 32 SpearmanrResult(correlation=1.0, pvalue=0.0) (0.9866112213296232, 3.955342587543755e-05)\n",
      "Set max degree to 5\n",
      "-----------------------------------------------\n",
      "Loading data:\n",
      "Loading graph data from ./dataspace/graph/citeseer/citeseer-G.json\n",
      "Removed 0 nodes that lacked proper annotations due to networkx versioning issues\n",
      "File loaded successfully\n",
      "Loading feature from ./dataspace/graph/citeseer/citeseer-G.json\n",
      "File loaded successfully\n",
      "Loading classmap data from ./dataspace/graph/citeseer/citeseer-class_map.json\n",
      "File loaded successfully\n",
      "Loaded data.. now preprocessing..\n",
      "Use original edges\n",
      "Generate train edges\n",
      "Number of training edges: 4600\n",
      "Preprocessing finished, graph info:\n",
      "Name: citeseer\n",
      "Type: Graph\n",
      "Number of nodes: 3327\n",
      "Number of edges: 4600\n",
      "Average degree:   2.7653\n"
     ]
    },
    {
     "name": "stderr",
     "output_type": "stream",
     "text": [
      "1000it [00:14, 70.72it/s]\n"
     ]
    },
    {
     "name": "stdout",
     "output_type": "stream",
     "text": [
      "citeseer 64 SpearmanrResult(correlation=1.0, pvalue=0.0) (0.9932635051754377, 7.128032796203461e-06)\n",
      "Set max degree to 5\n",
      "-----------------------------------------------\n",
      "Loading data:\n",
      "Loading graph data from ./dataspace/graph/citeseer/citeseer-G.json\n",
      "Removed 0 nodes that lacked proper annotations due to networkx versioning issues\n",
      "File loaded successfully\n",
      "Loading feature from ./dataspace/graph/citeseer/citeseer-G.json\n",
      "File loaded successfully\n",
      "Loading classmap data from ./dataspace/graph/citeseer/citeseer-class_map.json\n",
      "File loaded successfully\n",
      "Loaded data.. now preprocessing..\n",
      "Use original edges\n",
      "Generate train edges\n",
      "Number of training edges: 4600\n",
      "Preprocessing finished, graph info:\n",
      "Name: citeseer\n",
      "Type: Graph\n",
      "Number of nodes: 3327\n",
      "Number of edges: 4600\n",
      "Average degree:   2.7653\n"
     ]
    },
    {
     "name": "stderr",
     "output_type": "stream",
     "text": [
      "1000it [00:14, 67.02it/s]\n"
     ]
    },
    {
     "name": "stdout",
     "output_type": "stream",
     "text": [
      "citeseer 128 SpearmanrResult(correlation=1.0, pvalue=0.0) (0.9958921107411871, 2.072737264948192e-06)\n",
      "Set max degree to 5\n",
      "-----------------------------------------------\n",
      "Loading data:\n",
      "Loading graph data from ./dataspace/graph/citeseer/citeseer-G.json\n",
      "Removed 0 nodes that lacked proper annotations due to networkx versioning issues\n",
      "File loaded successfully\n",
      "Loading feature from ./dataspace/graph/citeseer/citeseer-G.json\n",
      "File loaded successfully\n",
      "Loading classmap data from ./dataspace/graph/citeseer/citeseer-class_map.json\n",
      "File loaded successfully\n",
      "Loaded data.. now preprocessing..\n",
      "Use original edges\n",
      "Generate train edges\n",
      "Number of training edges: 4600\n",
      "Preprocessing finished, graph info:\n",
      "Name: citeseer\n",
      "Type: Graph\n",
      "Number of nodes: 3327\n",
      "Number of edges: 4600\n",
      "Average degree:   2.7653\n"
     ]
    },
    {
     "name": "stderr",
     "output_type": "stream",
     "text": [
      "1000it [00:15, 65.79it/s]\n"
     ]
    },
    {
     "name": "stdout",
     "output_type": "stream",
     "text": [
      "citeseer 512 SpearmanrResult(correlation=1.0, pvalue=0.0) (0.9899732067068592, 1.9231899618642702e-05)\n",
      "Set max degree to 5\n",
      "-----------------------------------------------\n",
      "Loading data:\n",
      "Loading graph data from ./dataspace/graph/pubmed/pubmed-G.json\n",
      "Removed 0 nodes that lacked proper annotations due to networkx versioning issues\n",
      "File loaded successfully\n",
      "Loading feature from ./dataspace/graph/pubmed/pubmed-G.json\n",
      "File loaded successfully\n",
      "Loading classmap data from ./dataspace/graph/pubmed/pubmed-class_map.json\n",
      "File loaded successfully\n",
      "Loaded data.. now preprocessing..\n",
      "Use original edges\n",
      "Generate train edges\n",
      "Number of training edges: 44324\n",
      "Preprocessing finished, graph info:\n",
      "Name: pubmed\n",
      "Type: Graph\n",
      "Number of nodes: 19717\n",
      "Number of edges: 44324\n",
      "Average degree:   4.4960\n"
     ]
    },
    {
     "name": "stderr",
     "output_type": "stream",
     "text": [
      "1000it [00:24, 40.23it/s]\n"
     ]
    },
    {
     "name": "stdout",
     "output_type": "stream",
     "text": [
      "pubmed 4 SpearmanrResult(correlation=1.0, pvalue=0.0) (0.9871672728538927, 3.558435115017835e-05)\n",
      "Set max degree to 5\n",
      "-----------------------------------------------\n",
      "Loading data:\n",
      "Loading graph data from ./dataspace/graph/pubmed/pubmed-G.json\n",
      "Removed 0 nodes that lacked proper annotations due to networkx versioning issues\n",
      "File loaded successfully\n",
      "Loading feature from ./dataspace/graph/pubmed/pubmed-G.json\n",
      "File loaded successfully\n",
      "Loading classmap data from ./dataspace/graph/pubmed/pubmed-class_map.json\n",
      "File loaded successfully\n",
      "Loaded data.. now preprocessing..\n",
      "Use original edges\n",
      "Generate train edges\n",
      "Number of training edges: 44324\n",
      "Preprocessing finished, graph info:\n",
      "Name: pubmed\n",
      "Type: Graph\n",
      "Number of nodes: 19717\n",
      "Number of edges: 44324\n",
      "Average degree:   4.4960\n"
     ]
    },
    {
     "name": "stderr",
     "output_type": "stream",
     "text": [
      "1000it [00:23, 42.38it/s]\n"
     ]
    },
    {
     "name": "stdout",
     "output_type": "stream",
     "text": [
      "pubmed 8 SpearmanrResult(correlation=1.0, pvalue=0.0) (0.9948572684539193, 3.6327953140046387e-06)\n",
      "Set max degree to 5\n",
      "-----------------------------------------------\n",
      "Loading data:\n",
      "Loading graph data from ./dataspace/graph/pubmed/pubmed-G.json\n",
      "Removed 0 nodes that lacked proper annotations due to networkx versioning issues\n",
      "File loaded successfully\n",
      "Loading feature from ./dataspace/graph/pubmed/pubmed-G.json\n",
      "File loaded successfully\n",
      "Loading classmap data from ./dataspace/graph/pubmed/pubmed-class_map.json\n",
      "File loaded successfully\n",
      "Loaded data.. now preprocessing..\n",
      "Use original edges\n",
      "Generate train edges\n",
      "Number of training edges: 44324\n",
      "Preprocessing finished, graph info:\n",
      "Name: pubmed\n",
      "Type: Graph\n",
      "Number of nodes: 19717\n",
      "Number of edges: 44324\n",
      "Average degree:   4.4960\n"
     ]
    },
    {
     "name": "stderr",
     "output_type": "stream",
     "text": [
      "1000it [00:23, 42.64it/s]\n"
     ]
    },
    {
     "name": "stdout",
     "output_type": "stream",
     "text": [
      "pubmed 16 SpearmanrResult(correlation=1.0, pvalue=0.0) (0.9912171651792558, 1.3819558377304454e-05)\n",
      "Set max degree to 5\n",
      "-----------------------------------------------\n",
      "Loading data:\n",
      "Loading graph data from ./dataspace/graph/pubmed/pubmed-G.json\n",
      "Removed 0 nodes that lacked proper annotations due to networkx versioning issues\n",
      "File loaded successfully\n",
      "Loading feature from ./dataspace/graph/pubmed/pubmed-G.json\n",
      "File loaded successfully\n",
      "Loading classmap data from ./dataspace/graph/pubmed/pubmed-class_map.json\n",
      "File loaded successfully\n",
      "Loaded data.. now preprocessing..\n",
      "Use original edges\n",
      "Generate train edges\n",
      "Number of training edges: 44324\n",
      "Preprocessing finished, graph info:\n",
      "Name: pubmed\n",
      "Type: Graph\n",
      "Number of nodes: 19717\n",
      "Number of edges: 44324\n",
      "Average degree:   4.4960\n"
     ]
    },
    {
     "name": "stderr",
     "output_type": "stream",
     "text": [
      "1000it [00:28, 35.37it/s]\n"
     ]
    },
    {
     "name": "stdout",
     "output_type": "stream",
     "text": [
      "pubmed 32 SpearmanrResult(correlation=1.0, pvalue=0.0) (0.9890385047489709, 2.4020015417946054e-05)\n",
      "Set max degree to 5\n",
      "-----------------------------------------------\n",
      "Loading data:\n",
      "Loading graph data from ./dataspace/graph/pubmed/pubmed-G.json\n",
      "Removed 0 nodes that lacked proper annotations due to networkx versioning issues\n",
      "File loaded successfully\n",
      "Loading feature from ./dataspace/graph/pubmed/pubmed-G.json\n",
      "File loaded successfully\n",
      "Loading classmap data from ./dataspace/graph/pubmed/pubmed-class_map.json\n",
      "File loaded successfully\n",
      "Loaded data.. now preprocessing..\n",
      "Use original edges\n",
      "Generate train edges\n",
      "Number of training edges: 44324\n",
      "Preprocessing finished, graph info:\n",
      "Name: pubmed\n",
      "Type: Graph\n",
      "Number of nodes: 19717\n",
      "Number of edges: 44324\n",
      "Average degree:   4.4960\n"
     ]
    },
    {
     "name": "stderr",
     "output_type": "stream",
     "text": [
      "1000it [00:28, 35.31it/s]\n"
     ]
    },
    {
     "name": "stdout",
     "output_type": "stream",
     "text": [
      "pubmed 64 SpearmanrResult(correlation=1.0, pvalue=0.0) (0.9923502372693965, 9.790201917641984e-06)\n",
      "Set max degree to 5\n",
      "-----------------------------------------------\n",
      "Loading data:\n",
      "Loading graph data from ./dataspace/graph/pubmed/pubmed-G.json\n",
      "Removed 0 nodes that lacked proper annotations due to networkx versioning issues\n",
      "File loaded successfully\n",
      "Loading feature from ./dataspace/graph/pubmed/pubmed-G.json\n",
      "File loaded successfully\n",
      "Loading classmap data from ./dataspace/graph/pubmed/pubmed-class_map.json\n",
      "File loaded successfully\n",
      "Loaded data.. now preprocessing..\n",
      "Use original edges\n",
      "Generate train edges\n",
      "Number of training edges: 44324\n",
      "Preprocessing finished, graph info:\n",
      "Name: pubmed\n",
      "Type: Graph\n",
      "Number of nodes: 19717\n",
      "Number of edges: 44324\n",
      "Average degree:   4.4960\n"
     ]
    },
    {
     "name": "stderr",
     "output_type": "stream",
     "text": [
      "1000it [00:24, 41.41it/s]\n"
     ]
    },
    {
     "name": "stdout",
     "output_type": "stream",
     "text": [
      "pubmed 128 SpearmanrResult(correlation=1.0, pvalue=0.0) (0.9957269262273971, 2.287230468476101e-06)\n",
      "Set max degree to 5\n",
      "-----------------------------------------------\n",
      "Loading data:\n",
      "Loading graph data from ./dataspace/graph/pubmed/pubmed-G.json\n",
      "Removed 0 nodes that lacked proper annotations due to networkx versioning issues\n",
      "File loaded successfully\n",
      "Loading feature from ./dataspace/graph/pubmed/pubmed-G.json\n",
      "File loaded successfully\n",
      "Loading classmap data from ./dataspace/graph/pubmed/pubmed-class_map.json\n",
      "File loaded successfully\n",
      "Loaded data.. now preprocessing..\n",
      "Use original edges\n",
      "Generate train edges\n",
      "Number of training edges: 44324\n",
      "Preprocessing finished, graph info:\n",
      "Name: pubmed\n",
      "Type: Graph\n",
      "Number of nodes: 19717\n",
      "Number of edges: 44324\n",
      "Average degree:   4.4960\n"
     ]
    },
    {
     "name": "stderr",
     "output_type": "stream",
     "text": [
      "1000it [00:25, 39.39it/s]\n"
     ]
    },
    {
     "name": "stdout",
     "output_type": "stream",
     "text": [
      "pubmed 512 SpearmanrResult(correlation=1.0, pvalue=0.0) (0.9897829840296741, 2.015499985164381e-05)\n",
      "Set max degree to 5\n",
      "-----------------------------------------------\n",
      "Loading data:\n",
      "Loading graph data from ./dataspace/graph/wordnet/wordnet-G.json\n",
      "Removed 0 nodes that lacked proper annotations due to networkx versioning issues\n",
      "File loaded successfully\n",
      "Loading feature from ./dataspace/graph/wordnet/wordnet-G.json\n",
      "File loaded successfully\n",
      "Loading classmap data from ./dataspace/graph/wordnet/wordnet-class_map.json\n",
      "File loaded successfully\n",
      "Loaded data.. now preprocessing..\n",
      "Use original edges\n",
      "Generate train edges\n",
      "Number of training edges: 127124\n",
      "Preprocessing finished, graph info:\n",
      "Name: wordnet\n",
      "Type: Graph\n",
      "Number of nodes: 82670\n",
      "Number of edges: 127124\n",
      "Average degree:   3.0755\n"
     ]
    },
    {
     "name": "stderr",
     "output_type": "stream",
     "text": [
      "1000it [00:25, 38.90it/s]\n"
     ]
    },
    {
     "name": "stdout",
     "output_type": "stream",
     "text": [
      "wordnet 4 SpearmanrResult(correlation=0.8928571428571429, pvalue=0.006807187408935392) (0.9290437384186772, 0.0024786723927522638)\n",
      "Set max degree to 5\n",
      "-----------------------------------------------\n",
      "Loading data:\n",
      "Loading graph data from ./dataspace/graph/wordnet/wordnet-G.json\n",
      "Removed 0 nodes that lacked proper annotations due to networkx versioning issues\n",
      "File loaded successfully\n",
      "Loading feature from ./dataspace/graph/wordnet/wordnet-G.json\n",
      "File loaded successfully\n",
      "Loading classmap data from ./dataspace/graph/wordnet/wordnet-class_map.json\n",
      "File loaded successfully\n",
      "Loaded data.. now preprocessing..\n",
      "Use original edges\n",
      "Generate train edges\n",
      "Number of training edges: 127124\n",
      "Preprocessing finished, graph info:\n",
      "Name: wordnet\n",
      "Type: Graph\n",
      "Number of nodes: 82670\n",
      "Number of edges: 127124\n",
      "Average degree:   3.0755\n"
     ]
    },
    {
     "name": "stderr",
     "output_type": "stream",
     "text": [
      "1000it [00:27, 37.00it/s]\n"
     ]
    },
    {
     "name": "stdout",
     "output_type": "stream",
     "text": [
      "wordnet 8 SpearmanrResult(correlation=1.0, pvalue=0.0) (0.9716597624793624, 0.00025576251623632445)\n",
      "Set max degree to 5\n",
      "-----------------------------------------------\n",
      "Loading data:\n",
      "Loading graph data from ./dataspace/graph/wordnet/wordnet-G.json\n",
      "Removed 0 nodes that lacked proper annotations due to networkx versioning issues\n",
      "File loaded successfully\n",
      "Loading feature from ./dataspace/graph/wordnet/wordnet-G.json\n",
      "File loaded successfully\n",
      "Loading classmap data from ./dataspace/graph/wordnet/wordnet-class_map.json\n",
      "File loaded successfully\n",
      "Loaded data.. now preprocessing..\n",
      "Use original edges\n",
      "Generate train edges\n",
      "Number of training edges: 127124\n",
      "Preprocessing finished, graph info:\n",
      "Name: wordnet\n",
      "Type: Graph\n",
      "Number of nodes: 82670\n",
      "Number of edges: 127124\n",
      "Average degree:   3.0755\n"
     ]
    },
    {
     "name": "stderr",
     "output_type": "stream",
     "text": [
      "1000it [00:27, 37.02it/s]\n"
     ]
    },
    {
     "name": "stdout",
     "output_type": "stream",
     "text": [
      "wordnet 16 SpearmanrResult(correlation=1.0, pvalue=0.0) (0.9870875096229772, 3.613832659267721e-05)\n",
      "Set max degree to 5\n",
      "-----------------------------------------------\n",
      "Loading data:\n",
      "Loading graph data from ./dataspace/graph/wordnet/wordnet-G.json\n",
      "Removed 0 nodes that lacked proper annotations due to networkx versioning issues\n",
      "File loaded successfully\n",
      "Loading feature from ./dataspace/graph/wordnet/wordnet-G.json\n",
      "File loaded successfully\n",
      "Loading classmap data from ./dataspace/graph/wordnet/wordnet-class_map.json\n",
      "File loaded successfully\n",
      "Loaded data.. now preprocessing..\n",
      "Use original edges\n",
      "Generate train edges\n",
      "Number of training edges: 127124\n",
      "Preprocessing finished, graph info:\n",
      "Name: wordnet\n",
      "Type: Graph\n",
      "Number of nodes: 82670\n",
      "Number of edges: 127124\n",
      "Average degree:   3.0755\n"
     ]
    },
    {
     "name": "stderr",
     "output_type": "stream",
     "text": [
      "1000it [00:39, 25.53it/s]\n"
     ]
    },
    {
     "name": "stdout",
     "output_type": "stream",
     "text": [
      "wordnet 32 SpearmanrResult(correlation=1.0, pvalue=0.0) (0.9661840492813042, 0.0003965925661141633)\n",
      "Set max degree to 5\n",
      "-----------------------------------------------\n",
      "Loading data:\n",
      "Loading graph data from ./dataspace/graph/wordnet/wordnet-G.json\n",
      "Removed 0 nodes that lacked proper annotations due to networkx versioning issues\n",
      "File loaded successfully\n",
      "Loading feature from ./dataspace/graph/wordnet/wordnet-G.json\n",
      "File loaded successfully\n",
      "Loading classmap data from ./dataspace/graph/wordnet/wordnet-class_map.json\n",
      "File loaded successfully\n",
      "Loaded data.. now preprocessing..\n",
      "Use original edges\n",
      "Generate train edges\n",
      "Number of training edges: 127124\n",
      "Preprocessing finished, graph info:\n",
      "Name: wordnet\n",
      "Type: Graph\n",
      "Number of nodes: 82670\n",
      "Number of edges: 127124\n",
      "Average degree:   3.0755\n"
     ]
    },
    {
     "name": "stderr",
     "output_type": "stream",
     "text": [
      "1000it [00:24, 41.14it/s]\n"
     ]
    },
    {
     "name": "stdout",
     "output_type": "stream",
     "text": [
      "wordnet 64 SpearmanrResult(correlation=1.0, pvalue=0.0) (0.9857879136988221, 4.589695088312876e-05)\n",
      "Set max degree to 5\n",
      "-----------------------------------------------\n",
      "Loading data:\n",
      "Loading graph data from ./dataspace/graph/wordnet/wordnet-G.json\n",
      "Removed 0 nodes that lacked proper annotations due to networkx versioning issues\n",
      "File loaded successfully\n",
      "Loading feature from ./dataspace/graph/wordnet/wordnet-G.json\n",
      "File loaded successfully\n",
      "Loading classmap data from ./dataspace/graph/wordnet/wordnet-class_map.json\n",
      "File loaded successfully\n",
      "Loaded data.. now preprocessing..\n",
      "Use original edges\n",
      "Generate train edges\n",
      "Number of training edges: 127124\n",
      "Preprocessing finished, graph info:\n",
      "Name: wordnet\n",
      "Type: Graph\n",
      "Number of nodes: 82670\n",
      "Number of edges: 127124\n",
      "Average degree:   3.0755\n"
     ]
    },
    {
     "name": "stderr",
     "output_type": "stream",
     "text": [
      "1000it [00:24, 40.58it/s]\n"
     ]
    },
    {
     "name": "stdout",
     "output_type": "stream",
     "text": [
      "wordnet 128 SpearmanrResult(correlation=1.0, pvalue=0.0) (0.996208723310261, 1.6964259246497103e-06)\n",
      "Set max degree to 5\n",
      "-----------------------------------------------\n",
      "Loading data:\n",
      "Loading graph data from ./dataspace/graph/wordnet/wordnet-G.json\n",
      "Removed 0 nodes that lacked proper annotations due to networkx versioning issues\n",
      "File loaded successfully\n",
      "Loading feature from ./dataspace/graph/wordnet/wordnet-G.json\n",
      "File loaded successfully\n",
      "Loading classmap data from ./dataspace/graph/wordnet/wordnet-class_map.json\n",
      "File loaded successfully\n",
      "Loaded data.. now preprocessing..\n",
      "Use original edges\n",
      "Generate train edges\n",
      "Number of training edges: 127124\n",
      "Preprocessing finished, graph info:\n",
      "Name: wordnet\n",
      "Type: Graph\n",
      "Number of nodes: 82670\n",
      "Number of edges: 127124\n",
      "Average degree:   3.0755\n"
     ]
    },
    {
     "name": "stderr",
     "output_type": "stream",
     "text": [
      "1000it [00:24, 41.57it/s]"
     ]
    },
    {
     "name": "stdout",
     "output_type": "stream",
     "text": [
      "wordnet 512 SpearmanrResult(correlation=1.0, pvalue=0.0) (0.9941223802588799, 5.070942741697384e-06)\n"
     ]
    },
    {
     "name": "stderr",
     "output_type": "stream",
     "text": [
      "\n"
     ]
    }
   ],
   "source": [
    "for dataset in ['human', 'cora', 'citeseer', 'pubmed','wordnet']:\n",
    "    for dim in [4, 8, 16, 32, 64, 128, 512]:\n",
    "        ori_graph_data = load_data('./dataspace/graph/{}/{}'.format(dataset, dataset), supervised=False, max_degree=5, multiclass=False, use_random_walks=False)\n",
    "\n",
    "        ori_emb_model = SupervisedGraphSage(ori_graph_data.raw_feats.shape[1], dim, ori_graph_data.num_class)\n",
    "        ori_emb_model = ori_emb_model.cuda()\n",
    "        ori_emb_model.load_state_dict(torch.load('model_dim/{}_sup_50_dim{}.pt'.format(dataset, dim)))\n",
    "        ori_emb_model.set_params(ori_graph_data.full_adj, ori_graph_data.deg, ori_graph_data.feats)\n",
    "        ori_emb_model.eval()\n",
    "\n",
    "        ori_graph_emb = F.normalize(ori_emb_model.aggregator(list(range(ori_graph_data.raw_feats.shape[0]))), dim = 1)\n",
    "        ori_graph_emb = ori_graph_emb.detach().cpu().numpy()\n",
    "\n",
    "\n",
    "        for i, node in enumerate(ori_graph_data.G.nodes):\n",
    "            ori_graph_data.G.nodes[node]['label'] = ori_graph_data.multi2single_label[tuple(ori_graph_data.G.nodes[node]['label'])]\n",
    "\n",
    "        query_machine = GraphQuery(ori_emb_model, \n",
    "                ori_graph_emb,\n",
    "                ori_graph_data.G,\n",
    "                ori_graph_data.id_map,\n",
    "                ori_graph_data.feats,\n",
    "                ori_graph_data.raw_feats,\n",
    "                ori_graph_data.full_adj,\n",
    "                ori_graph_data.deg)\n",
    "\n",
    "        def get_embedding_subgraph(subgraph):\n",
    "            sub_id_map, sub_raw_feats, all_sub_adj, sub_degree = query_machine.create_subgraph_map(subgraph)\n",
    "            embedding_subgraph = query_machine.embedding_subgraph(sub_raw_feats, all_sub_adj, sub_degree)\n",
    "            embedding_subgraph = embedding_subgraph.detach().cpu().numpy()\n",
    "\n",
    "            return embedding_subgraph, sub_id_map\n",
    "\n",
    "\n",
    "        mcs2emb = defaultdict(list)\n",
    "        GRAPH_SIZE = 20\n",
    "        N_REMOVE = 3\n",
    "        N_CORE = 1000\n",
    "\n",
    "        if N_CORE<= len(query_machine.ori_graph):\n",
    "            core_nodes = random.sample([node for node in query_machine.ori_graph], N_CORE)\n",
    "        else:\n",
    "            core_nodes = random.choices([node for node in query_machine.ori_graph], k=N_CORE)\n",
    "        for i, core_node in tqdm(enumerate(core_nodes)):\n",
    "            biggraph = query_machine.create_subgraph_from_core(core_node, GRAPH_SIZE)\n",
    "            if len(biggraph) != GRAPH_SIZE:\n",
    "                continue\n",
    "            sub_id_map, sub_raw_feats, all_sub_adj, sub_degree = query_machine.create_subgraph_map(biggraph)\n",
    "\n",
    "            embedding_biggraph = query_machine.embedding_subgraph(sub_raw_feats, all_sub_adj, sub_degree)\n",
    "            embedding_biggraph = embedding_biggraph.detach().cpu().numpy()\n",
    "            for dist in range(1,8):\n",
    "                connected = False\n",
    "                n_tries  = 0\n",
    "                while(not connected and n_tries<=10):\n",
    "                    subgraph = remove_node(biggraph, dist)\n",
    "                    n_tries += 1\n",
    "                    if len(subgraph)==0: continue\n",
    "                    connected = nx.is_connected(subgraph)\n",
    "                    if (n_tries>10): break\n",
    "                if n_tries <=10 and nx.is_connected(subgraph):\n",
    "                    sub_id_map, sub_raw_feats, all_sub_adj, sub_degree = query_machine.create_subgraph_map(subgraph)\n",
    "                    embedding_subgraph = query_machine.embedding_subgraph(sub_raw_feats, all_sub_adj, sub_degree)\n",
    "                    embedding_subgraph = embedding_subgraph.detach().cpu().numpy()\n",
    "                    emb_sim = ((embedding_biggraph.mean(0)- embedding_subgraph.mean(0))**2).sum()\n",
    "                    if not np.isnan(emb_sim):\n",
    "                        mcs2emb[dist].append(emb_sim)\n",
    "        X = []\n",
    "        Y = []\n",
    "        for k,v in mcs2emb.items():\n",
    "            X.append(k)\n",
    "            Y.append(sum(v)/len(v))\n",
    "        print(dataset, dim, spearmanr(X, Y), pearsonr(X,Y))\n"
   ]
  },
  {
   "cell_type": "code",
   "execution_count": null,
   "metadata": {},
   "outputs": [],
   "source": []
  }
 ],
 "metadata": {
  "kernelspec": {
   "display_name": "Python 3",
   "language": "python",
   "name": "python3"
  },
  "language_info": {
   "codemirror_mode": {
    "name": "ipython",
    "version": 3
   },
   "file_extension": ".py",
   "mimetype": "text/x-python",
   "name": "python",
   "nbconvert_exporter": "python",
   "pygments_lexer": "ipython3",
   "version": "3.6.9"
  }
 },
 "nbformat": 4,
 "nbformat_minor": 2
}
